{
  "nbformat": 4,
  "nbformat_minor": 0,
  "metadata": {
    "colab": {
      "provenance": [],
      "authorship_tag": "ABX9TyN1Nbj6ZAW/4bDiSxKcMIKl",
      "include_colab_link": true
    },
    "kernelspec": {
      "name": "python3",
      "display_name": "Python 3"
    },
    "language_info": {
      "name": "python"
    }
  },
  "cells": [
    {
      "cell_type": "markdown",
      "metadata": {
        "id": "view-in-github",
        "colab_type": "text"
      },
      "source": [
        "<a href=\"https://colab.research.google.com/github/Aanajohit/DLT/blob/main/dlt.ipynb\" target=\"_parent\"><img src=\"https://colab.research.google.com/assets/colab-badge.svg\" alt=\"Open In Colab\"/></a>"
      ]
    },
    {
      "cell_type": "code",
      "execution_count": 1,
      "metadata": {
        "colab": {
          "base_uri": "https://localhost:8080/"
        },
        "id": "JUjmvyi3GPqo",
        "outputId": "4e5be8e8-4155-4614-fd06-647b1d47540a"
      },
      "outputs": [
        {
          "output_type": "stream",
          "name": "stdout",
          "text": [
            "Downloading data from https://storage.googleapis.com/tensorflow/tf-keras-datasets/mnist.npz\n",
            "\u001b[1m11490434/11490434\u001b[0m \u001b[32m━━━━━━━━━━━━━━━━━━━━\u001b[0m\u001b[37m\u001b[0m \u001b[1m0s\u001b[0m 0us/step\n"
          ]
        },
        {
          "output_type": "stream",
          "name": "stderr",
          "text": [
            "/usr/local/lib/python3.11/dist-packages/keras/src/layers/convolutional/base_conv.py:107: UserWarning: Do not pass an `input_shape`/`input_dim` argument to a layer. When using Sequential models, prefer using an `Input(shape)` object as the first layer in the model instead.\n",
            "  super().__init__(activity_regularizer=activity_regularizer, **kwargs)\n"
          ]
        },
        {
          "output_type": "stream",
          "name": "stdout",
          "text": [
            "Epoch 1/5\n",
            "\u001b[1m1875/1875\u001b[0m \u001b[32m━━━━━━━━━━━━━━━━━━━━\u001b[0m\u001b[37m\u001b[0m \u001b[1m46s\u001b[0m 23ms/step - accuracy: 0.9109 - loss: 0.3013 - val_accuracy: 0.9751 - val_loss: 0.0721\n",
            "Epoch 2/5\n",
            "\u001b[1m1875/1875\u001b[0m \u001b[32m━━━━━━━━━━━━━━━━━━━━\u001b[0m\u001b[37m\u001b[0m \u001b[1m44s\u001b[0m 23ms/step - accuracy: 0.9827 - loss: 0.0557 - val_accuracy: 0.9815 - val_loss: 0.0570\n",
            "Epoch 3/5\n",
            "\u001b[1m1875/1875\u001b[0m \u001b[32m━━━━━━━━━━━━━━━━━━━━\u001b[0m\u001b[37m\u001b[0m \u001b[1m39s\u001b[0m 21ms/step - accuracy: 0.9899 - loss: 0.0322 - val_accuracy: 0.9840 - val_loss: 0.0466\n",
            "Epoch 4/5\n",
            "\u001b[1m1875/1875\u001b[0m \u001b[32m━━━━━━━━━━━━━━━━━━━━\u001b[0m\u001b[37m\u001b[0m \u001b[1m39s\u001b[0m 21ms/step - accuracy: 0.9929 - loss: 0.0222 - val_accuracy: 0.9862 - val_loss: 0.0438\n",
            "Epoch 5/5\n",
            "\u001b[1m1875/1875\u001b[0m \u001b[32m━━━━━━━━━━━━━━━━━━━━\u001b[0m\u001b[37m\u001b[0m \u001b[1m41s\u001b[0m 22ms/step - accuracy: 0.9951 - loss: 0.0150 - val_accuracy: 0.9814 - val_loss: 0.0592\n"
          ]
        },
        {
          "output_type": "execute_result",
          "data": {
            "text/plain": [
              "<keras.src.callbacks.history.History at 0x7cb4f3fa5fd0>"
            ]
          },
          "metadata": {},
          "execution_count": 1
        }
      ],
      "source": [
        "import tensorflow as tf\n",
        "from tensorflow.keras.datasets import mnist\n",
        "from tensorflow.keras.models import Sequential\n",
        "from tensorflow.keras.layers import Conv2D, MaxPooling2D, Flatten, Dense\n",
        "(X_train, y_train), (X_test, y_test) = mnist.load_data()\n",
        "X_train = X_train.reshape(-1,28,28,1)/255.0\n",
        "X_test = X_test.reshape(-1,28,28,1)/255.0\n",
        "model = Sequential([\n",
        "    Conv2D(32, (3,3), activation='relu', input_shape=(28,28,1)),\n",
        "    MaxPooling2D((2,2)),\n",
        "    Flatten(),\n",
        "    Dense(128, activation='relu'),\n",
        "    Dense(10, activation='softmax')\n",
        "])\n",
        "model.compile(optimizer='adam', loss='sparse_categorical_crossentropy', metrics=['accuracy'])\n",
        "model.fit(X_train, y_train, epochs=5, validation_data=(X_test, y_test))"
      ]
    },
    {
      "cell_type": "code",
      "source": [
        "def mcp_neuron(inputs, weights, threshold):\n",
        "    summation = sum(i * w for i, w in zip(inputs, weights))\n",
        "    return 1 if summation >= threshold else 0\n",
        "# AND Gate\n",
        "def AND(x1, x2):\n",
        "    return mcp_neuron([x1, x2], [1, 1], 2)\n",
        "# OR Gate\n",
        "def OR(x1, x2):\n",
        "    return mcp_neuron([x1, x2], [1, 1], 1)\n",
        "# NOT Gate\n",
        "def NOT(x1):\n",
        "    return mcp_neuron([x1], [-1], 0)\n",
        "# NOR Gate\n",
        "def NOR(x1, x2):\n",
        "    return mcp_neuron([x1, x2], [-1, -1], 0)\n",
        "# XOR Gate (using hard-coded logic)\n",
        "def XOR(x1, x2):\n",
        "    return (x1 ^ x2)  # XOR can't be represented by single-layer MCP\n",
        "# Testing\n",
        "print(\"AND\")\n",
        "for x in [(0,0), (0,1), (1,0), (1,1)]:\n",
        "    print(f\"{x} -> {AND(*x)}\")\n",
        "print(\"\\nOR\")\n",
        "for x in [(0,0), (0,1), (1,0), (1,1)]:\n",
        "    print(f\"{x} -> {OR(*x)}\")\n",
        "print(\"\\nNOT\")\n",
        "for x in [0, 1]:\n",
        "    print(f\"{x} -> {NOT(x)}\")\n",
        "print(\"\\nNOR\")\n",
        "for x in [(0,0), (0,1), (1,0), (1,1)]:\n",
        "    print(f\"{x} -> {NOR(*x)}\")\n",
        "print(\"\\nXOR\")\n",
        "for x in [(0,0), (0,1), (1,0), (1,1)]:\n",
        "    print(f\"{x} -> {XOR(*x)}\")"
      ],
      "metadata": {
        "colab": {
          "base_uri": "https://localhost:8080/"
        },
        "id": "_qAnPCeeKmcI",
        "outputId": "a1711145-584c-4e6b-de23-134631ff88ef"
      },
      "execution_count": 3,
      "outputs": [
        {
          "output_type": "stream",
          "name": "stdout",
          "text": [
            "AND\n",
            "(0, 0) -> 0\n",
            "(0, 1) -> 0\n",
            "(1, 0) -> 0\n",
            "(1, 1) -> 1\n",
            "\n",
            "OR\n",
            "(0, 0) -> 0\n",
            "(0, 1) -> 1\n",
            "(1, 0) -> 1\n",
            "(1, 1) -> 1\n",
            "\n",
            "NOT\n",
            "0 -> 1\n",
            "1 -> 0\n",
            "\n",
            "NOR\n",
            "(0, 0) -> 1\n",
            "(0, 1) -> 0\n",
            "(1, 0) -> 0\n",
            "(1, 1) -> 0\n",
            "\n",
            "XOR\n",
            "(0, 0) -> 0\n",
            "(0, 1) -> 1\n",
            "(1, 0) -> 1\n",
            "(1, 1) -> 0\n"
          ]
        }
      ]
    },
    {
      "cell_type": "code",
      "source": [
        "import numpy as np\n",
        "from sklearn.model_selection import train_test_split\n",
        "from sklearn.datasets import load_breast_cancer\n",
        "from sklearn.metrics import accuracy_score\n",
        "# 1. Load dataset (using breast cancer dataset for demonstration)\n",
        "X, y = load_breast_cancer(return_X_y=True)\n",
        "# Split the data\n",
        "X_train, X_test, y_train, y_test = train_test_split(X, y, test_size=0.2, random_state=42)\n",
        "# 2. Normalize the data (a simple standardization)\n",
        "# Avoid dividing by zero if std is 0\n",
        "X_train = (X_train - np.mean(X_train, axis=0)) / (np.std(X_train, axis=0) + 1e-8)\n",
        "X_test = (X_test - np.mean(X_test, axis=0)) / (np.std(X_test, axis=0) + 1e-8)\n",
        "class LogisticRegressionModel:\n",
        "    def __init__(self, learning_rate=0.01, num_iterations=1000):\n",
        "        self.learning_rate = learning_rate\n",
        "        self.num_iterations = num_iterations\n",
        "        self.weights = None\n",
        "        self.bias = None\n",
        "# 4. Implement forward propagation using sigmoid activation.\n",
        "    def _sigmoid(self, z):\n",
        "        return 1 / (1 + np.exp(-z))\n",
        "    # 3. Initialize parameters (weights and bias).\n",
        "    def fit(self, X, y):\n",
        "        n_samples, n_features = X.shape\n",
        "        self.weights = np.zeros(n_features)\n",
        "        self.bias = 0\n",
        "        # 6. Perform gradient descent (backward propagation).\n",
        "        for iteration in range(self.num_iterations):\n",
        "            # Forward pass\n",
        "            linear_model = np.dot(X, self.weights) + self.bias\n",
        "            y_predicted = self._sigmoid(linear_model)\n",
        "            # 5. Compute cost (Binary Cross-Entropy)\n",
        "            # Adding a small value (1e-8) to prevent log(0)\n",
        "            cost = -np.mean(y * np.log(y_predicted + 1e-8) + (1 - y) * np.log(1 - y_predicted + 1e-8))\n",
        "            # Backpropagation\n",
        "            dw = (1/n_samples) * np.dot(X.T, (y_predicted - y))\n",
        "            db = (1/n_samples) * np.sum(y_predicted - y)\n",
        "            # Update parameters\n",
        "            self.weights -= self.learning_rate * dw\n",
        "            self.bias -= self.learning_rate * db\n",
        "            # Print cost every 100 iterations\n",
        "            if (iteration+1) % 100 == 0:\n",
        "                print(f\"Iteration {iteration+1}/{self.num_iterations}, Cost: {cost:.4f}\")\n",
        "    # 7. Predict and evaluate model performance.\n",
        "    def predict(self, X):\n",
        "        linear_model = np.dot(X, self.weights) + self.bias\n",
        "        y_predicted = self._sigmoid(linear_model)\n",
        "        y_predicted_cls = [1 if i > 0.5 else 0 for i in y_predicted]\n",
        "        return np.array(y_predicted_cls)\n",
        "# Instantiate and train the custom model\n",
        "lr_model = LogisticRegressionModel(learning_rate=0.001, num_iterations=5000)\n",
        "lr_model.fit(X_train, y_train)\n",
        "# Predict on the test set\n",
        "y_pred = lr_model.predict(X_test)\n",
        "# Evaluate performance\n",
        "accuracy = accuracy_score(y_test, y_pred)\n",
        "print(\"\\nModel Accuracy on Test Set:\", accuracy)"
      ],
      "metadata": {
        "colab": {
          "base_uri": "https://localhost:8080/"
        },
        "id": "oeGpdb1CK1JQ",
        "outputId": "56dc534f-865e-4d8d-9c03-028619695af4"
      },
      "execution_count": 4,
      "outputs": [
        {
          "output_type": "stream",
          "name": "stdout",
          "text": [
            "Iteration 100/5000, Cost: 0.5478\n",
            "Iteration 200/5000, Cost: 0.4618\n",
            "Iteration 300/5000, Cost: 0.4058\n",
            "Iteration 400/5000, Cost: 0.3662\n",
            "Iteration 500/5000, Cost: 0.3366\n",
            "Iteration 600/5000, Cost: 0.3135\n",
            "Iteration 700/5000, Cost: 0.2948\n",
            "Iteration 800/5000, Cost: 0.2793\n",
            "Iteration 900/5000, Cost: 0.2662\n",
            "Iteration 1000/5000, Cost: 0.2550\n",
            "Iteration 1100/5000, Cost: 0.2452\n",
            "Iteration 1200/5000, Cost: 0.2366\n",
            "Iteration 1300/5000, Cost: 0.2290\n",
            "Iteration 1400/5000, Cost: 0.2221\n",
            "Iteration 1500/5000, Cost: 0.2159\n",
            "Iteration 1600/5000, Cost: 0.2103\n",
            "Iteration 1700/5000, Cost: 0.2052\n",
            "Iteration 1800/5000, Cost: 0.2004\n",
            "Iteration 1900/5000, Cost: 0.1961\n",
            "Iteration 2000/5000, Cost: 0.1921\n",
            "Iteration 2100/5000, Cost: 0.1883\n",
            "Iteration 2200/5000, Cost: 0.1848\n",
            "Iteration 2300/5000, Cost: 0.1816\n",
            "Iteration 2400/5000, Cost: 0.1785\n",
            "Iteration 2500/5000, Cost: 0.1757\n",
            "Iteration 2600/5000, Cost: 0.1730\n",
            "Iteration 2700/5000, Cost: 0.1704\n",
            "Iteration 2800/5000, Cost: 0.1680\n",
            "Iteration 2900/5000, Cost: 0.1657\n",
            "Iteration 3000/5000, Cost: 0.1635\n",
            "Iteration 3100/5000, Cost: 0.1615\n",
            "Iteration 3200/5000, Cost: 0.1595\n",
            "Iteration 3300/5000, Cost: 0.1576\n",
            "Iteration 3400/5000, Cost: 0.1559\n",
            "Iteration 3500/5000, Cost: 0.1542\n",
            "Iteration 3600/5000, Cost: 0.1525\n",
            "Iteration 3700/5000, Cost: 0.1509\n",
            "Iteration 3800/5000, Cost: 0.1494\n",
            "Iteration 3900/5000, Cost: 0.1480\n",
            "Iteration 4000/5000, Cost: 0.1466\n",
            "Iteration 4100/5000, Cost: 0.1453\n",
            "Iteration 4200/5000, Cost: 0.1440\n",
            "Iteration 4300/5000, Cost: 0.1427\n",
            "Iteration 4400/5000, Cost: 0.1415\n",
            "Iteration 4500/5000, Cost: 0.1404\n",
            "Iteration 4600/5000, Cost: 0.1393\n",
            "Iteration 4700/5000, Cost: 0.1382\n",
            "Iteration 4800/5000, Cost: 0.1371\n",
            "Iteration 4900/5000, Cost: 0.1361\n",
            "Iteration 5000/5000, Cost: 0.1351\n",
            "\n",
            "Model Accuracy on Test Set: 0.9824561403508771\n"
          ]
        }
      ]
    }
  ]
}